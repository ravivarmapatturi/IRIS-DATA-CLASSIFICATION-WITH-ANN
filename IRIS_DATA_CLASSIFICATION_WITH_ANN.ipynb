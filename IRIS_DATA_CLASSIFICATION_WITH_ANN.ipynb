{
 "cells": [
  {
   "cell_type": "markdown",
   "id": "5d7e34a0",
   "metadata": {},
   "source": [
    "#### importing libraries"
   ]
  },
  {
   "cell_type": "code",
   "execution_count": 141,
   "id": "ac614f5f",
   "metadata": {},
   "outputs": [],
   "source": [
    "import torch\n",
    "import torch.nn as nn\n",
    "import torch.nn.functional as F\n",
    "from torch.utils.data import Dataset ,DataLoader\n",
    "\n",
    "import numpy as np\n",
    "import pandas as pd\n",
    "import matplotlib.pyplot as plt"
   ]
  },
  {
   "cell_type": "markdown",
   "id": "8b91644d",
   "metadata": {},
   "source": [
    "#### building the architecture of ANNS"
   ]
  },
  {
   "cell_type": "code",
   "execution_count": 142,
   "id": "6c4b69bd",
   "metadata": {},
   "outputs": [],
   "source": [
    "class Model(nn.Module):\n",
    "    def __init__(self,in_f=4,h1_f=8,h2_f=9,out_f=3):\n",
    "        super().__init__()\n",
    "        self.fc1=nn.Linear(in_f,h1_f)\n",
    "        self.fc2=nn.Linear(h1_f,h2_f)\n",
    "        self.fc3=nn.Linear(h2_f,out_f)\n",
    "    def forward(self,x):\n",
    "        x=F.relu(self.fc1(x))\n",
    "        x=F.relu(self.fc2(x))\n",
    "        x=self.fc3(x)\n",
    "        \n",
    "        return x"
   ]
  },
  {
   "cell_type": "code",
   "execution_count": 143,
   "id": "958eb1fb",
   "metadata": {},
   "outputs": [],
   "source": [
    "model=Model()"
   ]
  },
  {
   "cell_type": "code",
   "execution_count": 144,
   "id": "dd0e29f3",
   "metadata": {},
   "outputs": [
    {
     "data": {
      "text/plain": [
       "<bound method Module.parameters of Model(\n",
       "  (fc1): Linear(in_features=4, out_features=8, bias=True)\n",
       "  (fc2): Linear(in_features=8, out_features=9, bias=True)\n",
       "  (fc3): Linear(in_features=9, out_features=3, bias=True)\n",
       ")>"
      ]
     },
     "execution_count": 144,
     "metadata": {},
     "output_type": "execute_result"
    }
   ],
   "source": [
    "model.parameters"
   ]
  },
  {
   "cell_type": "markdown",
   "id": "9c8245c0",
   "metadata": {},
   "source": [
    "#### calculating the parameters of architecture"
   ]
  },
  {
   "cell_type": "code",
   "execution_count": 145,
   "id": "cad162a5",
   "metadata": {},
   "outputs": [
    {
     "name": "stdout",
     "output_type": "stream",
     "text": [
      "32\n",
      "8\n",
      "72\n",
      "9\n",
      "27\n",
      "3\n",
      "total parameters 151\n"
     ]
    }
   ],
   "source": [
    "s=0\n",
    "for param in model.parameters():\n",
    "    print(param.numel())\n",
    "    s=s+param.numel()\n",
    "print(\"total parameters\",s)"
   ]
  },
  {
   "cell_type": "code",
   "execution_count": 146,
   "id": "74e85a1a",
   "metadata": {},
   "outputs": [],
   "source": [
    "from sklearn import datasets\n",
    "from sklearn.model_selection import train_test_split"
   ]
  },
  {
   "cell_type": "markdown",
   "id": "bde52048",
   "metadata": {},
   "source": [
    "#### loading iris data from sklearn"
   ]
  },
  {
   "cell_type": "code",
   "execution_count": 147,
   "id": "b1f659e8",
   "metadata": {},
   "outputs": [],
   "source": [
    "iris=datasets.load_iris()"
   ]
  },
  {
   "cell_type": "code",
   "execution_count": 148,
   "id": "f265cd6b",
   "metadata": {},
   "outputs": [],
   "source": [
    "df=pd.DataFrame(iris.data)"
   ]
  },
  {
   "cell_type": "code",
   "execution_count": 149,
   "id": "8bbc3b71",
   "metadata": {},
   "outputs": [],
   "source": [
    "df.columns=iris.feature_names"
   ]
  },
  {
   "cell_type": "code",
   "execution_count": 150,
   "id": "eb867167",
   "metadata": {},
   "outputs": [],
   "source": [
    "df['target']=iris.target"
   ]
  },
  {
   "cell_type": "code",
   "execution_count": 151,
   "id": "a0c73be7",
   "metadata": {},
   "outputs": [
    {
     "data": {
      "text/plain": [
       "dict_keys(['data', 'target', 'frame', 'target_names', 'DESCR', 'feature_names', 'filename', 'data_module'])"
      ]
     },
     "execution_count": 151,
     "metadata": {},
     "output_type": "execute_result"
    }
   ],
   "source": [
    "iris.keys()"
   ]
  },
  {
   "cell_type": "code",
   "execution_count": 152,
   "id": "7ee0eb42",
   "metadata": {},
   "outputs": [
    {
     "data": {
      "text/plain": [
       "['sepal length (cm)',\n",
       " 'sepal width (cm)',\n",
       " 'petal length (cm)',\n",
       " 'petal width (cm)']"
      ]
     },
     "execution_count": 152,
     "metadata": {},
     "output_type": "execute_result"
    }
   ],
   "source": [
    "iris.feature_names"
   ]
  },
  {
   "cell_type": "code",
   "execution_count": 153,
   "id": "c842ce45",
   "metadata": {},
   "outputs": [
    {
     "data": {
      "text/html": [
       "<div>\n",
       "<style scoped>\n",
       "    .dataframe tbody tr th:only-of-type {\n",
       "        vertical-align: middle;\n",
       "    }\n",
       "\n",
       "    .dataframe tbody tr th {\n",
       "        vertical-align: top;\n",
       "    }\n",
       "\n",
       "    .dataframe thead th {\n",
       "        text-align: right;\n",
       "    }\n",
       "</style>\n",
       "<table border=\"1\" class=\"dataframe\">\n",
       "  <thead>\n",
       "    <tr style=\"text-align: right;\">\n",
       "      <th></th>\n",
       "      <th>sepal length (cm)</th>\n",
       "      <th>sepal width (cm)</th>\n",
       "      <th>petal length (cm)</th>\n",
       "      <th>petal width (cm)</th>\n",
       "      <th>target</th>\n",
       "    </tr>\n",
       "  </thead>\n",
       "  <tbody>\n",
       "    <tr>\n",
       "      <th>0</th>\n",
       "      <td>5.1</td>\n",
       "      <td>3.5</td>\n",
       "      <td>1.4</td>\n",
       "      <td>0.2</td>\n",
       "      <td>0</td>\n",
       "    </tr>\n",
       "    <tr>\n",
       "      <th>1</th>\n",
       "      <td>4.9</td>\n",
       "      <td>3.0</td>\n",
       "      <td>1.4</td>\n",
       "      <td>0.2</td>\n",
       "      <td>0</td>\n",
       "    </tr>\n",
       "    <tr>\n",
       "      <th>2</th>\n",
       "      <td>4.7</td>\n",
       "      <td>3.2</td>\n",
       "      <td>1.3</td>\n",
       "      <td>0.2</td>\n",
       "      <td>0</td>\n",
       "    </tr>\n",
       "    <tr>\n",
       "      <th>3</th>\n",
       "      <td>4.6</td>\n",
       "      <td>3.1</td>\n",
       "      <td>1.5</td>\n",
       "      <td>0.2</td>\n",
       "      <td>0</td>\n",
       "    </tr>\n",
       "    <tr>\n",
       "      <th>4</th>\n",
       "      <td>5.0</td>\n",
       "      <td>3.6</td>\n",
       "      <td>1.4</td>\n",
       "      <td>0.2</td>\n",
       "      <td>0</td>\n",
       "    </tr>\n",
       "    <tr>\n",
       "      <th>...</th>\n",
       "      <td>...</td>\n",
       "      <td>...</td>\n",
       "      <td>...</td>\n",
       "      <td>...</td>\n",
       "      <td>...</td>\n",
       "    </tr>\n",
       "    <tr>\n",
       "      <th>145</th>\n",
       "      <td>6.7</td>\n",
       "      <td>3.0</td>\n",
       "      <td>5.2</td>\n",
       "      <td>2.3</td>\n",
       "      <td>2</td>\n",
       "    </tr>\n",
       "    <tr>\n",
       "      <th>146</th>\n",
       "      <td>6.3</td>\n",
       "      <td>2.5</td>\n",
       "      <td>5.0</td>\n",
       "      <td>1.9</td>\n",
       "      <td>2</td>\n",
       "    </tr>\n",
       "    <tr>\n",
       "      <th>147</th>\n",
       "      <td>6.5</td>\n",
       "      <td>3.0</td>\n",
       "      <td>5.2</td>\n",
       "      <td>2.0</td>\n",
       "      <td>2</td>\n",
       "    </tr>\n",
       "    <tr>\n",
       "      <th>148</th>\n",
       "      <td>6.2</td>\n",
       "      <td>3.4</td>\n",
       "      <td>5.4</td>\n",
       "      <td>2.3</td>\n",
       "      <td>2</td>\n",
       "    </tr>\n",
       "    <tr>\n",
       "      <th>149</th>\n",
       "      <td>5.9</td>\n",
       "      <td>3.0</td>\n",
       "      <td>5.1</td>\n",
       "      <td>1.8</td>\n",
       "      <td>2</td>\n",
       "    </tr>\n",
       "  </tbody>\n",
       "</table>\n",
       "<p>150 rows × 5 columns</p>\n",
       "</div>"
      ],
      "text/plain": [
       "     sepal length (cm)  sepal width (cm)  petal length (cm)  petal width (cm)  \\\n",
       "0                  5.1               3.5                1.4               0.2   \n",
       "1                  4.9               3.0                1.4               0.2   \n",
       "2                  4.7               3.2                1.3               0.2   \n",
       "3                  4.6               3.1                1.5               0.2   \n",
       "4                  5.0               3.6                1.4               0.2   \n",
       "..                 ...               ...                ...               ...   \n",
       "145                6.7               3.0                5.2               2.3   \n",
       "146                6.3               2.5                5.0               1.9   \n",
       "147                6.5               3.0                5.2               2.0   \n",
       "148                6.2               3.4                5.4               2.3   \n",
       "149                5.9               3.0                5.1               1.8   \n",
       "\n",
       "     target  \n",
       "0         0  \n",
       "1         0  \n",
       "2         0  \n",
       "3         0  \n",
       "4         0  \n",
       "..      ...  \n",
       "145       2  \n",
       "146       2  \n",
       "147       2  \n",
       "148       2  \n",
       "149       2  \n",
       "\n",
       "[150 rows x 5 columns]"
      ]
     },
     "execution_count": 153,
     "metadata": {},
     "output_type": "execute_result"
    }
   ],
   "source": [
    "df"
   ]
  },
  {
   "cell_type": "code",
   "execution_count": 154,
   "id": "0b952bc2",
   "metadata": {},
   "outputs": [],
   "source": [
    "x=df.drop('target',axis=1).values"
   ]
  },
  {
   "cell_type": "code",
   "execution_count": 155,
   "id": "8761807f",
   "metadata": {},
   "outputs": [],
   "source": [
    "y=df['target'].values"
   ]
  },
  {
   "cell_type": "code",
   "execution_count": 156,
   "id": "80d79762",
   "metadata": {},
   "outputs": [],
   "source": [
    "xtrain,xtest,ytrain,ytest=train_test_split(x,y,test_size=0.2,random_state=42)"
   ]
  },
  {
   "cell_type": "code",
   "execution_count": 157,
   "id": "3816ed48",
   "metadata": {},
   "outputs": [],
   "source": [
    "\n",
    "xtrain=torch.FloatTensor(xtrain)\n",
    "xtest=torch.FloatTensor(xtest)\n",
    "ytrain=torch.LongTensor(ytrain)\n",
    "ytest=torch.LongTensor(ytest)"
   ]
  },
  {
   "cell_type": "code",
   "execution_count": 158,
   "id": "bef47ea6",
   "metadata": {},
   "outputs": [],
   "source": [
    "trainloader=DataLoader(xtrain,batch_size=60,shuffle=True,pin_memory=True)\n",
    "# print(trainloader)\n",
    "testloader=DataLoader(xtest,batch_size=60,shuffle=True,pin_memory=True)"
   ]
  },
  {
   "cell_type": "code",
   "execution_count": 159,
   "id": "a1c8adff",
   "metadata": {},
   "outputs": [],
   "source": [
    "criterion=nn.CrossEntropyLoss()\n",
    "optimizer=torch.optim.Adam(model.parameters(),lr=0.01)"
   ]
  },
  {
   "cell_type": "code",
   "execution_count": 160,
   "id": "3f9e4900",
   "metadata": {},
   "outputs": [
    {
     "name": "stdout",
     "output_type": "stream",
     "text": [
      "epoch 0 loss 1.122549295425415\n",
      "epoch 10 loss 0.9825970530509949\n",
      "epoch 20 loss 0.7709909081459045\n",
      "epoch 30 loss 0.5683454275131226\n",
      "epoch 40 loss 0.3946301341056824\n",
      "epoch 50 loss 0.24858637154102325\n",
      "epoch 60 loss 0.13527455925941467\n",
      "epoch 70 loss 0.08599849790334702\n",
      "epoch 80 loss 0.06881745904684067\n",
      "epoch 90 loss 0.062203481793403625\n",
      "total time for execution 0.18380975723266602\n"
     ]
    }
   ],
   "source": [
    "import time\n",
    "start=time.time()\n",
    "epochs=100\n",
    "losses=[]\n",
    "\n",
    "for i in range(epochs):\n",
    "    ypred=model.forward(xtrain)\n",
    "    loss=criterion(ypred,ytrain)\n",
    "    losses.append(loss)\n",
    "    \n",
    "    if i%10 ==0:\n",
    "        print(f\"epoch {i} loss {loss.item()}\")\n",
    "    optimizer.zero_grad()\n",
    "    loss.backward()\n",
    "    optimizer.step()\n",
    "\n",
    "\n",
    "end=time.time()-start\n",
    "print(f\"total time for execution {end}\")"
   ]
  },
  {
   "cell_type": "markdown",
   "id": "6c56e9e7",
   "metadata": {},
   "source": [
    "#### calculating the accuracy and other metrics "
   ]
  },
  {
   "cell_type": "code",
   "execution_count": 177,
   "id": "cfe6db10",
   "metadata": {},
   "outputs": [
    {
     "name": "stdout",
     "output_type": "stream",
     "text": [
      "tensor([-4.4355,  4.8666, -0.3709]),predicted value 1 , actual value 1\n",
      "tensor([  6.9815,   1.0077, -11.2205]),predicted value 0 , actual value 0\n",
      "tensor([-15.9100,   3.3101,  16.5859]),predicted value 2 , actual value 2\n",
      "tensor([-4.8988,  4.3594,  0.8497]),predicted value 1 , actual value 1\n",
      "tensor([-5.5020,  5.0476,  0.8162]),predicted value 1 , actual value 1\n",
      "tensor([  6.5073,   0.9656, -10.4687]),predicted value 0 , actual value 0\n",
      "tensor([-1.2953,  3.7205, -3.1263]),predicted value 1 , actual value 1\n",
      "tensor([-9.6683,  3.5463,  8.0429]),predicted value 2 , actual value 2\n",
      "tensor([-7.3271,  3.9409,  4.5933]),predicted value 2 , actual value 1\n",
      "tensor([-2.3763,  4.2375, -2.3042]),predicted value 1 , actual value 1\n",
      "tensor([-8.0005,  3.8642,  5.4593]),predicted value 2 , actual value 2\n",
      "tensor([  6.3049,   0.8523, -10.0325]),predicted value 0 , actual value 0\n",
      "tensor([  6.9140,   0.8596, -10.9375]),predicted value 0 , actual value 0\n",
      "tensor([  6.3738,   0.9027, -10.1952]),predicted value 0 , actual value 0\n",
      "tensor([  6.6850,   0.8189, -10.5512]),predicted value 0 , actual value 0\n",
      "tensor([-4.5078,  4.6904, -0.0984]),predicted value 1 , actual value 1\n",
      "tensor([-11.7319,   3.0836,  11.3306]),predicted value 2 , actual value 2\n",
      "tensor([-2.6452,  4.2721, -1.9704]),predicted value 1 , actual value 1\n",
      "tensor([-4.3894,  4.4021,  0.1327]),predicted value 1 , actual value 1\n",
      "tensor([-11.7598,   2.9100,  11.6283]),predicted value 2 , actual value 2\n",
      "tensor([ 6.2509,  0.8557, -9.9568]),predicted value 0 , actual value 0\n",
      "tensor([-7.2330,  3.8084,  4.5408]),predicted value 2 , actual value 2\n",
      "tensor([  6.3303,   0.8861, -10.1109]),predicted value 0 , actual value 0\n",
      "tensor([-11.4003,   3.0869,  10.8998]),predicted value 2 , actual value 2\n",
      "tensor([-9.6309,  5.1068,  5.9995]),predicted value 2 , actual value 2\n",
      "tensor([-10.4057,   3.2540,   9.3585]),predicted value 2 , actual value 2\n",
      "tensor([-11.7268,   3.5790,  10.6992]),predicted value 2 , actual value 2\n",
      "tensor([-11.7845,   3.2747,  11.1333]),predicted value 2 , actual value 2\n",
      "tensor([ 6.0949,  0.8654, -9.7381]),predicted value 0 , actual value 0\n",
      "tensor([ 6.1785,  0.9337, -9.9442]),predicted value 0 , actual value 0\n",
      "total correct predictions 29 out of 30\n",
      "accuray =96.66666666666667\n"
     ]
    }
   ],
   "source": [
    "correct=0\n",
    "with torch.no_grad():\n",
    "    for i in range(len(xtest)):\n",
    "        y_val=model.forward(xtest[i])\n",
    "        print(f\"{y_val},predicted value {y_val.argmax().item()} , actual value {ytest[i]}\")\n",
    "        if y_val.argmax().item()== ytest[i]:\n",
    "            correct+=1\n",
    "    print(f\"total correct predictions {correct} out of {len(xtest)}\")\n",
    "    print(f\"accuray ={(correct/len(xtest))*100}\")\n",
    "        "
   ]
  },
  {
   "cell_type": "code",
   "execution_count": 164,
   "id": "e150d660",
   "metadata": {},
   "outputs": [
    {
     "data": {
      "text/plain": [
       "30"
      ]
     },
     "execution_count": 164,
     "metadata": {},
     "output_type": "execute_result"
    }
   ],
   "source": [
    "len(xtest)"
   ]
  },
  {
   "cell_type": "code",
   "execution_count": 179,
   "id": "f567b2e3",
   "metadata": {},
   "outputs": [],
   "source": [
    "from sklearn.metrics import confusion_matrix\n",
    "cm=confusion_matrix"
   ]
  },
  {
   "cell_type": "code",
   "execution_count": null,
   "id": "1eb85eb5",
   "metadata": {},
   "outputs": [],
   "source": []
  }
 ],
 "metadata": {
  "kernelspec": {
   "display_name": "Python 3 (ipykernel)",
   "language": "python",
   "name": "python3"
  },
  "language_info": {
   "codemirror_mode": {
    "name": "ipython",
    "version": 3
   },
   "file_extension": ".py",
   "mimetype": "text/x-python",
   "name": "python",
   "nbconvert_exporter": "python",
   "pygments_lexer": "ipython3",
   "version": "3.9.13"
  }
 },
 "nbformat": 4,
 "nbformat_minor": 5
}
