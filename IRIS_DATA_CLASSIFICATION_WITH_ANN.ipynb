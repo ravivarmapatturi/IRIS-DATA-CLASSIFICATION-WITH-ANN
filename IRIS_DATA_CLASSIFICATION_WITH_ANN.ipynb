{
 "cells": [
  {
   "cell_type": "markdown",
   "id": "5d7e34a0",
   "metadata": {},
   "source": [
    "#### importing libraries"
   ]
  },
  {
   "cell_type": "code",
   "execution_count": 2,
   "id": "ac614f5f",
   "metadata": {},
   "outputs": [],
   "source": [
    "import torch\n",
    "import torch.nn as nn\n",
    "import torch.nn.functional as F\n",
    "from torch.utils.data import Dataset ,DataLoader\n",
    "\n",
    "import numpy as np\n",
    "import pandas as pd\n",
    "import matplotlib.pyplot as plt"
   ]
  },
  {
   "cell_type": "markdown",
   "id": "8b91644d",
   "metadata": {},
   "source": [
    "#### building the architecture of ANNS"
   ]
  },
  {
   "cell_type": "code",
   "execution_count": 3,
   "id": "6c4b69bd",
   "metadata": {},
   "outputs": [],
   "source": [
    "class Model(nn.Module):\n",
    "    def __init__(self,in_f=4,h1_f=8,h2_f=9,out_f=3):\n",
    "        super().__init__()\n",
    "        self.fc1=nn.Linear(in_f,h1_f)\n",
    "        self.fc2=nn.Linear(h1_f,h2_f)\n",
    "        self.fc3=nn.Linear(h2_f,out_f)\n",
    "    def forward(self,x):\n",
    "        x=F.relu(self.fc1(x))\n",
    "        x=F.relu(self.fc2(x))\n",
    "        x=self.fc3(x)\n",
    "        \n",
    "        return x"
   ]
  },
  {
   "cell_type": "code",
   "execution_count": 4,
   "id": "958eb1fb",
   "metadata": {},
   "outputs": [],
   "source": [
    "model=Model()"
   ]
  },
  {
   "cell_type": "code",
   "execution_count": 5,
   "id": "dd0e29f3",
   "metadata": {},
   "outputs": [
    {
     "data": {
      "text/plain": [
       "<bound method Module.parameters of Model(\n",
       "  (fc1): Linear(in_features=4, out_features=8, bias=True)\n",
       "  (fc2): Linear(in_features=8, out_features=9, bias=True)\n",
       "  (fc3): Linear(in_features=9, out_features=3, bias=True)\n",
       ")>"
      ]
     },
     "execution_count": 5,
     "metadata": {},
     "output_type": "execute_result"
    }
   ],
   "source": [
    "model.parameters"
   ]
  },
  {
   "cell_type": "markdown",
   "id": "9c8245c0",
   "metadata": {},
   "source": [
    "#### calculating the parameters of architecture"
   ]
  },
  {
   "cell_type": "code",
   "execution_count": 6,
   "id": "cad162a5",
   "metadata": {},
   "outputs": [
    {
     "name": "stdout",
     "output_type": "stream",
     "text": [
      "32\n",
      "8\n",
      "72\n",
      "9\n",
      "27\n",
      "3\n",
      "total parameters 151\n"
     ]
    }
   ],
   "source": [
    "s=0\n",
    "for param in model.parameters():\n",
    "    print(param.numel())\n",
    "    s=s+param.numel()\n",
    "print(\"total parameters\",s)"
   ]
  },
  {
   "cell_type": "code",
   "execution_count": 7,
   "id": "74e85a1a",
   "metadata": {},
   "outputs": [],
   "source": [
    "from sklearn import datasets\n",
    "from sklearn.model_selection import train_test_split"
   ]
  },
  {
   "cell_type": "markdown",
   "id": "bde52048",
   "metadata": {},
   "source": [
    "#### loading iris data from sklearn"
   ]
  },
  {
   "cell_type": "code",
   "execution_count": 8,
   "id": "b1f659e8",
   "metadata": {},
   "outputs": [],
   "source": [
    "iris=datasets.load_iris()"
   ]
  },
  {
   "cell_type": "code",
   "execution_count": 9,
   "id": "f265cd6b",
   "metadata": {},
   "outputs": [],
   "source": [
    "df=pd.DataFrame(iris.data)"
   ]
  },
  {
   "cell_type": "code",
   "execution_count": 10,
   "id": "8bbc3b71",
   "metadata": {},
   "outputs": [],
   "source": [
    "df.columns=iris.feature_names"
   ]
  },
  {
   "cell_type": "code",
   "execution_count": 11,
   "id": "eb867167",
   "metadata": {},
   "outputs": [],
   "source": [
    "df['target']=iris.target"
   ]
  },
  {
   "cell_type": "code",
   "execution_count": 12,
   "id": "a0c73be7",
   "metadata": {},
   "outputs": [
    {
     "data": {
      "text/plain": [
       "dict_keys(['data', 'target', 'frame', 'target_names', 'DESCR', 'feature_names', 'filename', 'data_module'])"
      ]
     },
     "execution_count": 12,
     "metadata": {},
     "output_type": "execute_result"
    }
   ],
   "source": [
    "iris.keys()"
   ]
  },
  {
   "cell_type": "code",
   "execution_count": 13,
   "id": "7ee0eb42",
   "metadata": {},
   "outputs": [
    {
     "data": {
      "text/plain": [
       "['sepal length (cm)',\n",
       " 'sepal width (cm)',\n",
       " 'petal length (cm)',\n",
       " 'petal width (cm)']"
      ]
     },
     "execution_count": 13,
     "metadata": {},
     "output_type": "execute_result"
    }
   ],
   "source": [
    "iris.feature_names"
   ]
  },
  {
   "cell_type": "code",
   "execution_count": 14,
   "id": "c842ce45",
   "metadata": {},
   "outputs": [
    {
     "data": {
      "text/html": [
       "<div>\n",
       "<style scoped>\n",
       "    .dataframe tbody tr th:only-of-type {\n",
       "        vertical-align: middle;\n",
       "    }\n",
       "\n",
       "    .dataframe tbody tr th {\n",
       "        vertical-align: top;\n",
       "    }\n",
       "\n",
       "    .dataframe thead th {\n",
       "        text-align: right;\n",
       "    }\n",
       "</style>\n",
       "<table border=\"1\" class=\"dataframe\">\n",
       "  <thead>\n",
       "    <tr style=\"text-align: right;\">\n",
       "      <th></th>\n",
       "      <th>sepal length (cm)</th>\n",
       "      <th>sepal width (cm)</th>\n",
       "      <th>petal length (cm)</th>\n",
       "      <th>petal width (cm)</th>\n",
       "      <th>target</th>\n",
       "    </tr>\n",
       "  </thead>\n",
       "  <tbody>\n",
       "    <tr>\n",
       "      <th>0</th>\n",
       "      <td>5.1</td>\n",
       "      <td>3.5</td>\n",
       "      <td>1.4</td>\n",
       "      <td>0.2</td>\n",
       "      <td>0</td>\n",
       "    </tr>\n",
       "    <tr>\n",
       "      <th>1</th>\n",
       "      <td>4.9</td>\n",
       "      <td>3.0</td>\n",
       "      <td>1.4</td>\n",
       "      <td>0.2</td>\n",
       "      <td>0</td>\n",
       "    </tr>\n",
       "    <tr>\n",
       "      <th>2</th>\n",
       "      <td>4.7</td>\n",
       "      <td>3.2</td>\n",
       "      <td>1.3</td>\n",
       "      <td>0.2</td>\n",
       "      <td>0</td>\n",
       "    </tr>\n",
       "    <tr>\n",
       "      <th>3</th>\n",
       "      <td>4.6</td>\n",
       "      <td>3.1</td>\n",
       "      <td>1.5</td>\n",
       "      <td>0.2</td>\n",
       "      <td>0</td>\n",
       "    </tr>\n",
       "    <tr>\n",
       "      <th>4</th>\n",
       "      <td>5.0</td>\n",
       "      <td>3.6</td>\n",
       "      <td>1.4</td>\n",
       "      <td>0.2</td>\n",
       "      <td>0</td>\n",
       "    </tr>\n",
       "    <tr>\n",
       "      <th>...</th>\n",
       "      <td>...</td>\n",
       "      <td>...</td>\n",
       "      <td>...</td>\n",
       "      <td>...</td>\n",
       "      <td>...</td>\n",
       "    </tr>\n",
       "    <tr>\n",
       "      <th>145</th>\n",
       "      <td>6.7</td>\n",
       "      <td>3.0</td>\n",
       "      <td>5.2</td>\n",
       "      <td>2.3</td>\n",
       "      <td>2</td>\n",
       "    </tr>\n",
       "    <tr>\n",
       "      <th>146</th>\n",
       "      <td>6.3</td>\n",
       "      <td>2.5</td>\n",
       "      <td>5.0</td>\n",
       "      <td>1.9</td>\n",
       "      <td>2</td>\n",
       "    </tr>\n",
       "    <tr>\n",
       "      <th>147</th>\n",
       "      <td>6.5</td>\n",
       "      <td>3.0</td>\n",
       "      <td>5.2</td>\n",
       "      <td>2.0</td>\n",
       "      <td>2</td>\n",
       "    </tr>\n",
       "    <tr>\n",
       "      <th>148</th>\n",
       "      <td>6.2</td>\n",
       "      <td>3.4</td>\n",
       "      <td>5.4</td>\n",
       "      <td>2.3</td>\n",
       "      <td>2</td>\n",
       "    </tr>\n",
       "    <tr>\n",
       "      <th>149</th>\n",
       "      <td>5.9</td>\n",
       "      <td>3.0</td>\n",
       "      <td>5.1</td>\n",
       "      <td>1.8</td>\n",
       "      <td>2</td>\n",
       "    </tr>\n",
       "  </tbody>\n",
       "</table>\n",
       "<p>150 rows × 5 columns</p>\n",
       "</div>"
      ],
      "text/plain": [
       "     sepal length (cm)  sepal width (cm)  petal length (cm)  petal width (cm)  \\\n",
       "0                  5.1               3.5                1.4               0.2   \n",
       "1                  4.9               3.0                1.4               0.2   \n",
       "2                  4.7               3.2                1.3               0.2   \n",
       "3                  4.6               3.1                1.5               0.2   \n",
       "4                  5.0               3.6                1.4               0.2   \n",
       "..                 ...               ...                ...               ...   \n",
       "145                6.7               3.0                5.2               2.3   \n",
       "146                6.3               2.5                5.0               1.9   \n",
       "147                6.5               3.0                5.2               2.0   \n",
       "148                6.2               3.4                5.4               2.3   \n",
       "149                5.9               3.0                5.1               1.8   \n",
       "\n",
       "     target  \n",
       "0         0  \n",
       "1         0  \n",
       "2         0  \n",
       "3         0  \n",
       "4         0  \n",
       "..      ...  \n",
       "145       2  \n",
       "146       2  \n",
       "147       2  \n",
       "148       2  \n",
       "149       2  \n",
       "\n",
       "[150 rows x 5 columns]"
      ]
     },
     "execution_count": 14,
     "metadata": {},
     "output_type": "execute_result"
    }
   ],
   "source": [
    "df"
   ]
  },
  {
   "cell_type": "code",
   "execution_count": 15,
   "id": "0b952bc2",
   "metadata": {},
   "outputs": [],
   "source": [
    "x=df.drop('target',axis=1).values"
   ]
  },
  {
   "cell_type": "code",
   "execution_count": 16,
   "id": "8761807f",
   "metadata": {},
   "outputs": [],
   "source": [
    "y=df['target'].values"
   ]
  },
  {
   "cell_type": "code",
   "execution_count": 17,
   "id": "80d79762",
   "metadata": {},
   "outputs": [],
   "source": [
    "xtrain,xtest,ytrain,ytest=train_test_split(x,y,test_size=0.2,random_state=42)"
   ]
  },
  {
   "cell_type": "code",
   "execution_count": 18,
   "id": "3816ed48",
   "metadata": {},
   "outputs": [],
   "source": [
    "\n",
    "xtrain=torch.FloatTensor(xtrain)\n",
    "xtest=torch.FloatTensor(xtest)\n",
    "ytrain=torch.LongTensor(ytrain)\n",
    "ytest=torch.LongTensor(ytest)"
   ]
  },
  {
   "cell_type": "code",
   "execution_count": 19,
   "id": "bef47ea6",
   "metadata": {},
   "outputs": [],
   "source": [
    "trainloader=DataLoader(xtrain,batch_size=60,shuffle=True,pin_memory=True)\n",
    "# print(trainloader)\n",
    "testloader=DataLoader(xtest,batch_size=60,shuffle=True,pin_memory=True)"
   ]
  },
  {
   "cell_type": "code",
   "execution_count": 20,
   "id": "a1c8adff",
   "metadata": {},
   "outputs": [],
   "source": [
    "criterion=nn.CrossEntropyLoss()\n",
    "optimizer=torch.optim.Adam(model.parameters(),lr=0.01)"
   ]
  },
  {
   "cell_type": "code",
   "execution_count": 21,
   "id": "3f9e4900",
   "metadata": {},
   "outputs": [
    {
     "name": "stdout",
     "output_type": "stream",
     "text": [
      "epoch 0 loss 1.0827577114105225\n",
      "epoch 10 loss 0.8296343088150024\n",
      "epoch 20 loss 0.5513640642166138\n",
      "epoch 30 loss 0.38617074489593506\n",
      "epoch 40 loss 0.25420844554901123\n",
      "epoch 50 loss 0.1470121443271637\n",
      "epoch 60 loss 0.09316664189100266\n",
      "epoch 70 loss 0.07266002148389816\n",
      "epoch 80 loss 0.06461270898580551\n",
      "epoch 90 loss 0.060821887105703354\n",
      "total time for execution 0.20271015167236328\n"
     ]
    }
   ],
   "source": [
    "import time\n",
    "start=time.time()\n",
    "epochs=100\n",
    "losses=[]\n",
    "\n",
    "for i in range(epochs):\n",
    "    ypred=model.forward(xtrain)\n",
    "    loss=criterion(ypred,ytrain)\n",
    "    losses.append(loss)\n",
    "    \n",
    "    if i%10 ==0:\n",
    "        print(f\"epoch {i} loss {loss.item()}\")\n",
    "    optimizer.zero_grad()\n",
    "    loss.backward()\n",
    "    optimizer.step()\n",
    "\n",
    "\n",
    "end=time.time()-start\n",
    "print(f\"total time for execution {end}\")"
   ]
  },
  {
   "cell_type": "markdown",
   "id": "6c56e9e7",
   "metadata": {},
   "source": [
    "#### calculating the accuracy and other metrics "
   ]
  },
  {
   "cell_type": "code",
   "execution_count": 25,
   "id": "cfe6db10",
   "metadata": {},
   "outputs": [
    {
     "name": "stdout",
     "output_type": "stream",
     "text": [
      "tensor([-4.2073,  4.0185, -0.5124]),predicted value 1 , actual value 1\n",
      "tensor([ 14.9198,   7.5720, -16.3129]),predicted value 0 , actual value 0\n",
      "tensor([-16.1875,  -1.5247,  10.1830]),predicted value 2 , actual value 2\n",
      "tensor([-4.4988,  3.6409, -0.0707]),predicted value 1 , actual value 1\n",
      "tensor([-4.7292,  4.0929, -0.2697]),predicted value 1 , actual value 1\n",
      "tensor([ 13.6281,   7.0310, -14.9913]),predicted value 0 , actual value 0\n",
      "tensor([-0.4845,  4.8488, -3.5738]),predicted value 1 , actual value 1\n",
      "tensor([-9.1192,  1.4568,  4.1995]),predicted value 2 , actual value 2\n",
      "tensor([-6.8280,  2.2836,  2.2980]),predicted value 2 , actual value 1\n",
      "tensor([-1.7202,  4.7740, -2.6640]),predicted value 1 , actual value 1\n",
      "tensor([-7.8239,  2.0917,  2.9829]),predicted value 2 , actual value 2\n",
      "tensor([ 13.1862,   6.5926, -14.3275]),predicted value 0 , actual value 0\n",
      "tensor([ 15.4834,   7.4083, -16.5606]),predicted value 0 , actual value 0\n",
      "tensor([ 13.2814,   6.7103, -14.4888]),predicted value 0 , actual value 0\n",
      "tensor([ 14.6065,   7.1468, -15.7506]),predicted value 0 , actual value 0\n",
      "tensor([-4.0177,  4.2001, -0.7748]),predicted value 1 , actual value 1\n",
      "tensor([-12.2614,  -0.3449,   7.2910]),predicted value 2 , actual value 2\n",
      "tensor([-2.0989,  4.5236, -2.1910]),predicted value 1 , actual value 1\n",
      "tensor([-4.2911,  3.6348, -0.1804]),predicted value 1 , actual value 1\n",
      "tensor([-12.1684,  -0.4509,   7.3105]),predicted value 2 , actual value 2\n",
      "tensor([ 12.5276,   6.5054, -13.8092]),predicted value 0 , actual value 0\n",
      "tensor([-7.2174,  2.1736,  2.5802]),predicted value 2 , actual value 2\n",
      "tensor([ 12.7472,   6.7020, -14.1228]),predicted value 0 , actual value 0\n",
      "tensor([-11.8230,  -0.2190,   6.9624]),predicted value 2 , actual value 2\n",
      "tensor([-9.6623,  2.3878,  3.8080]),predicted value 2 , actual value 2\n",
      "tensor([-10.1842,   0.7376,   5.3504]),predicted value 2 , actual value 2\n",
      "tensor([-12.0861,  -0.0821,   7.0355]),predicted value 2 , actual value 2\n",
      "tensor([-12.2143,  -0.1084,   7.1057]),predicted value 2 , actual value 2\n",
      "tensor([ 12.4299,   6.4235, -13.6772]),predicted value 0 , actual value 0\n",
      "tensor([ 12.4116,   6.5162, -13.7390]),predicted value 0 , actual value 0\n",
      "total correct predictions 29 out of 30\n",
      "accuray =96.66666666666667\n"
     ]
    }
   ],
   "source": [
    "correct=0\n",
    "predicted=[]\n",
    "actual=[]\n",
    "with torch.no_grad():\n",
    "    for i in range(len(xtest)):\n",
    "        y_val=model.forward(xtest[i])\n",
    "        predicted.append(y_val.argmax().item())\n",
    "        actual.append(ytest[i])\n",
    "        print(f\"{y_val},predicted value {y_val.argmax().item()} , actual value {ytest[i]}\")\n",
    "        if y_val.argmax().item()== ytest[i]:\n",
    "            correct+=1\n",
    "    print(f\"total correct predictions {correct} out of {len(xtest)}\")\n",
    "    print(f\"accuray ={(correct/len(xtest))*100}\")\n",
    "        "
   ]
  },
  {
   "cell_type": "code",
   "execution_count": 23,
   "id": "e150d660",
   "metadata": {},
   "outputs": [
    {
     "data": {
      "text/plain": [
       "30"
      ]
     },
     "execution_count": 23,
     "metadata": {},
     "output_type": "execute_result"
    }
   ],
   "source": [
    "len(xtest)"
   ]
  },
  {
   "cell_type": "code",
   "execution_count": 29,
   "id": "f567b2e3",
   "metadata": {},
   "outputs": [
    {
     "data": {
      "text/plain": [
       "<AxesSubplot:title={'center':'confusion_matrix'}>"
      ]
     },
     "execution_count": 29,
     "metadata": {},
     "output_type": "execute_result"
    },
    {
     "data": {
      "image/png": "[encoded data removed]",
      "text/plain": [
       "<Figure size 640x480 with 2 Axes>"
      ]
     },
     "metadata": {},
     "output_type": "display_data"
    }
   ],
   "source": [
    "from sklearn.metrics import confusion_matrix\n",
    "cm=confusion_matrix(predicted,actual)\n",
    "import seaborn as sns\n",
    "plt.figure()\n",
    "plt.title(\"confusion_matrix\")\n",
    "sns.heatmap(cm,annot=True,cmap=\"CMRmap\")"
   ]
  },
  {
   "cell_type": "code",
   "execution_count": null,
   "id": "1eb85eb5",
   "metadata": {},
   "outputs": [],
   "source": []
  }
 ],
 "metadata": {
  "kernelspec": {
   "display_name": "Python 3 (ipykernel)",
   "language": "python",
   "name": "python3"
  },
  "language_info": {
   "codemirror_mode": {
    "name": "ipython",
    "version": 3
   },
   "file_extension": ".py",
   "mimetype": "text/x-python",
   "name": "python",
   "nbconvert_exporter": "python",
   "pygments_lexer": "ipython3",
   "version": "3.9.13"
  }
 },
 "nbformat": 4,
 "nbformat_minor": 5
}
